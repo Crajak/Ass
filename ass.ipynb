{
 "cells": [
  {
   "cell_type": "markdown",
   "id": "187b5169-077f-4484-ae68-73cd7e03d418",
   "metadata": {},
   "source": [
    "Q1. Create one variable containing following type of data:"
   ]
  },
  {
   "cell_type": "code",
   "execution_count": 2,
   "id": "32f3331b-7319-4d97-ab58-a3aaa8fdebaf",
   "metadata": {},
   "outputs": [],
   "source": [
    "# Ans.\n",
    "# (i) string\n",
    "name=\"c k raj\"\n",
    "\n",
    "# (ii) list\n",
    "marks=[55,78,95,54]\n",
    "\n",
    "# (iii) float\n",
    "ave_marks=70.50\n",
    "# (iv) tuple\n",
    "details=('c k raj',25,\"ckraj@gmail.com\")"
   ]
  },
  {
   "cell_type": "markdown",
   "id": "54c1c461-5946-496c-8cd9-a16cebd5b902",
   "metadata": {},
   "source": [
    "Q2. Given are some following variables containing data:\n",
    "(i) var1 = ‘ ‘\n",
    "(ii) var2 = ‘[ DS , ML , Python]’\n",
    "(iii) var3 = [ ‘DS’ , ’ML’ , ‘Python’ ]\n",
    "(iv) var4 = 1.\n",
    "What will be the data type of the above given variable."
   ]
  },
  {
   "cell_type": "code",
   "execution_count": 12,
   "id": "43e6a3a3-aa47-4780-adc1-26a4f8162421",
   "metadata": {},
   "outputs": [
    {
     "ename": "SyntaxError",
     "evalue": "invalid syntax (591894403.py, line 3)",
     "output_type": "error",
     "traceback": [
      "\u001b[0;36m  Cell \u001b[0;32mIn[12], line 3\u001b[0;36m\u001b[0m\n\u001b[0;31m    Data Type=String\u001b[0m\n\u001b[0m         ^\u001b[0m\n\u001b[0;31mSyntaxError\u001b[0m\u001b[0;31m:\u001b[0m invalid syntax\n"
     ]
    }
   ],
   "source": [
    "# Ans.\n",
    "# (i) var1 = ‘ ‘\n",
    "Data Type=String\n",
    "\n",
    "#(ii) var2 = ‘[ DS , ML , Python]’\n",
    "Data Type =String\n",
    "\n",
    "#(iii) var3 = [ ‘DS’ , ’ML’ , ‘Python’ ]\n",
    "Data Type=List\n",
    "\n",
    "#(iv) var4 = 1.\n",
    "\n",
    "Data Type=float_\n"
   ]
  },
  {
   "cell_type": "markdown",
   "id": "fa0b601f-c305-496e-83cf-dd8ea8439869",
   "metadata": {},
   "source": [
    "Q3. Explain the use of the following operators using an example:\n",
    "(i) /\n",
    "(ii) %\n",
    "(iii) //\n",
    "(iv) **"
   ]
  },
  {
   "cell_type": "code",
   "execution_count": 13,
   "id": "8ae0a45b-451f-4135-975c-55a3d253d4ae",
   "metadata": {},
   "outputs": [
    {
     "name": "stdout",
     "output_type": "stream",
     "text": [
      "6.666666666666667\n"
     ]
    }
   ],
   "source": [
    "#Ans\n",
    "# (i) /\n",
    "##The division operator '/' is used to perform division between two numbers.It returns the quotient of the division operation, which can be a floating-point number if there is a remainder.\n",
    "dividend = 20\n",
    "divisor = 3\n",
    "result = dividend / divisor\n",
    "print(result)"
   ]
  },
  {
   "cell_type": "code",
   "execution_count": 14,
   "id": "f9624aeb-dbba-4ba7-8978-551049c62002",
   "metadata": {},
   "outputs": [
    {
     "name": "stdout",
     "output_type": "stream",
     "text": [
      "2\n"
     ]
    }
   ],
   "source": [
    "# (ii) %\n",
    "##The modulus operator'%' calculates the remainder of a division operation. It returns the remainder when one number is divided by another.\n",
    "dividend = 20\n",
    "divisor = 3\n",
    "remainder = dividend % divisor\n",
    "print(remainder)"
   ]
  },
  {
   "cell_type": "code",
   "execution_count": 16,
   "id": "65d9d320-afee-4ae7-9493-75938fac09f8",
   "metadata": {},
   "outputs": [
    {
     "name": "stdout",
     "output_type": "stream",
     "text": [
      "6\n"
     ]
    }
   ],
   "source": [
    "# (iii) //\n",
    "##The floor division operator '//' performs division between two numbers and rounds down the result to the nearest integer.\n",
    "dividend = 20\n",
    "divisor = 3\n",
    "result = dividend // divisor\n",
    "print(result)"
   ]
  },
  {
   "cell_type": "code",
   "execution_count": 17,
   "id": "e0f32267-38af-40f5-bf5f-b67c30e2887a",
   "metadata": {},
   "outputs": [
    {
     "name": "stdout",
     "output_type": "stream",
     "text": [
      "8\n"
     ]
    }
   ],
   "source": [
    "# (iv) **\n",
    "##The exponentiation operator '**' raises a number to a specified power.\n",
    "base = 2\n",
    "exponent = 3\n",
    "result = base ** exponent\n",
    "print(result)"
   ]
  },
  {
   "cell_type": "markdown",
   "id": "61dc4456-bd58-42f3-88ef-030a31d2ef52",
   "metadata": {},
   "source": [
    "Q4. Create a list of length 10 of your choice containing multiple types of data. Using for loop print the\n",
    "element and its data type."
   ]
  },
  {
   "cell_type": "code",
   "execution_count": 19,
   "id": "9746c97a-968b-4bcf-b0aa-3858ac629f9a",
   "metadata": {},
   "outputs": [
    {
     "name": "stdout",
     "output_type": "stream",
     "text": [
      "element: 42        data type: <class 'int'>\n",
      "element: Hello        data type: <class 'str'>\n",
      "element: 3.14        data type: <class 'float'>\n",
      "element: True        data type: <class 'bool'>\n",
      "element: [1, 2, 3]        data type: <class 'list'>\n",
      "element: {'name': 'ck raj'}        data type: <class 'dict'>\n",
      "element: None        data type: <class 'NoneType'>\n",
      "element: (10, 20)        data type: <class 'tuple'>\n",
      "element: data        data type: <class 'str'>\n",
      "element: False        data type: <class 'bool'>\n"
     ]
    }
   ],
   "source": [
    "list = [42, \"Hello\", 3.14, True, [1, 2, 3], {'name': 'ck raj'}, None, (10, 20), 'data', False]\n",
    "\n",
    "\n",
    "for i in list:\n",
    "    print(\"element:\",i ,\"       data type:\",type(i))"
   ]
  },
  {
   "cell_type": "markdown",
   "id": "20691cbe-80a1-4ccc-bc71-7e2131186cc9",
   "metadata": {},
   "source": [
    "Q5. Using a while loop, verify if the number A is purely divisible by number B and if so then how many\n",
    "times it can be divisible."
   ]
  },
  {
   "cell_type": "code",
   "execution_count": 9,
   "id": "3ff3e0ff-8653-4d2a-9533-54b03f6b488b",
   "metadata": {},
   "outputs": [
    {
     "name": "stdin",
     "output_type": "stream",
     "text": [
      "Enter the divident(A)   60\n",
      "Enter the divisor (B)   3\n"
     ]
    },
    {
     "name": "stdout",
     "output_type": "stream",
     "text": [
      "0 is purely divisible by 3.\n",
      "0 can be divided by 3 a total 20 of  times.\n"
     ]
    }
   ],
   "source": [
    "A=int(input(\"Enter the divident(A)  \"))\n",
    "B=int(input(\"Enter the divisor (B)  \"))\n",
    "\n",
    "count=0\n",
    "\n",
    "while A>=B:\n",
    "    A= A- B\n",
    "    count+=1\n",
    "    \n",
    "if A == 0:\n",
    "    print(f\"{A} is purely divisible by {B}.\")\n",
    "    print(f\"{A} can be divided by {B} a total {count} of  times.\")\n",
    "else:\n",
    "    print(f\"{A} is not purely divisible by {B}.\")"
   ]
  },
  {
   "cell_type": "markdown",
   "id": "96bfff4f-1735-4319-825e-313c6789f2e1",
   "metadata": {},
   "source": [
    "Q6. Create a list containing 25 int type data. Using for loop and if-else condition print if the element is\n",
    "divisible by 3 or not."
   ]
  },
  {
   "cell_type": "code",
   "execution_count": 13,
   "id": "355d4448-a813-4dcb-beb3-eaacf9208387",
   "metadata": {},
   "outputs": [
    {
     "name": "stdout",
     "output_type": "stream",
     "text": [
      "10 is not divisible by 3\n",
      " 15is divisible by 3\n",
      " 6is divisible by 3\n",
      " 9is divisible by 3\n",
      "22 is not divisible by 3\n",
      " 33is divisible by 3\n",
      " 12is divisible by 3\n",
      " 18is divisible by 3\n",
      " 27is divisible by 3\n",
      "8 is not divisible by 3\n",
      "5 is not divisible by 3\n",
      " 30is divisible by 3\n",
      " 42is divisible by 3\n",
      "17 is not divisible by 3\n",
      " 21is divisible by 3\n",
      " 36is divisible by 3\n",
      " 45is divisible by 3\n",
      "13 is not divisible by 3\n",
      "7 is not divisible by 3\n",
      "4 is not divisible by 3\n",
      " 39is divisible by 3\n",
      "20 is not divisible by 3\n",
      "11 is not divisible by 3\n",
      " 24is divisible by 3\n",
      " 3is divisible by 3\n"
     ]
    }
   ],
   "source": [
    "list = [10, 15, 6, 9, 22, 33, 12, 18, 27, 8, 5, 30, 42, 17, 21, 36, 45, 13, 7, 4, 39, 20, 11, 24, 3]\n",
    "for i in list:\n",
    "    if i %3 ==0:\n",
    "        print(f\" {i}is divisible by 3\")\n",
    "    else:\n",
    "        print(f\"{i} is not divisible by 3\")"
   ]
  },
  {
   "cell_type": "markdown",
   "id": "b490d8e5-fbc8-41b4-85a3-783e32084095",
   "metadata": {},
   "source": [
    "Q7. What do you understand about mutable and immutable data types? Give examples for both showing\n",
    "this property."
   ]
  },
  {
   "cell_type": "code",
   "execution_count": 15,
   "id": "3cae58e3-4709-4790-a373-b75d02c78364",
   "metadata": {},
   "outputs": [],
   "source": [
    "# Immutable Data Types\n",
    "#An immutable data type is one whose value cannot be changed after it is created. When you modify an immutable object, a new object is created with the updated value. Examples of immutable data types in Python include integers, floats, strings, and tuples.\n",
    "\n",
    "\n",
    "\n",
    "a=5\n",
    "b=a\n",
    "b=10\n",
    "st1=\"c kcraj\"\n",
    "st2=st1\n",
    "st2=\"hello\"\n",
    "tup1=(1,2,3,4)\n",
    "tup2=tup1\n",
    "\n",
    "#Mutable Data Types:\n",
    "#A mutable data type is one that allows you to modify its value directly without creating a new object. Lists, dictionaries, and sets in Python are examples of mutable data types.\n",
    "list1=[1,2,3]\n",
    "list2=list1\n",
    "list2.append(4)\n",
    "\n",
    "disc1={'c':5,'d':8}\n",
    "disc2=disc1\n",
    "disc2['f']=6\n",
    "\n",
    "\n",
    "set1={5,8,7}\n",
    "set2=set1\n",
    "set2.add(4)\n"
   ]
  },
  {
   "cell_type": "code",
   "execution_count": null,
   "id": "fd2ed0e3-c5a0-446b-9ed0-d0087fa02e51",
   "metadata": {},
   "outputs": [],
   "source": []
  }
 ],
 "metadata": {
  "kernelspec": {
   "display_name": "Python 3 (ipykernel)",
   "language": "python",
   "name": "python3"
  },
  "language_info": {
   "codemirror_mode": {
    "name": "ipython",
    "version": 3
   },
   "file_extension": ".py",
   "mimetype": "text/x-python",
   "name": "python",
   "nbconvert_exporter": "python",
   "pygments_lexer": "ipython3",
   "version": "3.10.8"
  }
 },
 "nbformat": 4,
 "nbformat_minor": 5
}
